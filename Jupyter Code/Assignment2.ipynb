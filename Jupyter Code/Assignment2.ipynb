{
 "cells": [
  {
   "cell_type": "code",
   "execution_count": null,
   "id": "52b068e1-92cd-4ff2-8d5a-da21517f3f55",
   "metadata": {},
   "outputs": [],
   "source": [
    "pip install geopy"
   ]
  },
  {
   "cell_type": "code",
   "execution_count": null,
   "id": "766b37fa-a273-47e8-8869-aede17b41f21",
   "metadata": {},
   "outputs": [],
   "source": [
    "pip install haversine"
   ]
  },
  {
   "cell_type": "code",
   "execution_count": 9,
   "id": "dc8add03-beb2-4e2e-8f08-4c044b5a2d72",
   "metadata": {},
   "outputs": [],
   "source": [
    "import pandas as pd\n",
    "import geopy.distance\n",
    "import time \n",
    "from haversine import Unit, haversine_vector\n",
    "import haversine as hs\n",
    "import seaborn as sns\n",
    "import matplotlib.pyplot as plt\n",
    "from scipy.spatial import distance"
   ]
  },
  {
   "cell_type": "markdown",
   "id": "93b5853d-4c40-4ef7-aad9-a04d0553f138",
   "metadata": {},
   "source": [
    "#### Create a dataframe for ppv.csv and people.csv files"
   ]
  },
  {
   "cell_type": "code",
   "execution_count": 10,
   "id": "89e6d8db-9ef9-46f9-a8bc-f3fdc17e81f3",
   "metadata": {},
   "outputs": [],
   "source": [
    "df_ppv = pd.read_csv('ppv.csv')\n",
    "df_people = pd.read_csv('people.csv')"
   ]
  },
  {
   "cell_type": "code",
   "execution_count": null,
   "id": "94693472-e41d-49c5-ad0e-a64761e85b75",
   "metadata": {},
   "outputs": [],
   "source": [
    "df_ppv.head(3)"
   ]
  },
  {
   "cell_type": "code",
   "execution_count": null,
   "id": "554639b2-96c7-40d5-8feb-f15a81416c1d",
   "metadata": {},
   "outputs": [],
   "source": [
    "df_people.head(3)"
   ]
  },
  {
   "cell_type": "markdown",
   "id": "c0b6fc2e-01ac-4a36-906f-f1b38cdc88d3",
   "metadata": {},
   "source": [
    "##### Example of shaded density plot \n",
    "A density plot is a representation of the distribution of a numeric variable."
   ]
  },
  {
   "cell_type": "code",
   "execution_count": null,
   "id": "5d5ecad3-70dc-46ef-88d1-185cae0e446e",
   "metadata": {},
   "outputs": [],
   "source": [
    "sns.kdeplot(df_ppv['Lon'], shade=True)\n",
    "sns.kdeplot(df_people['Lon'], shade=True)\n",
    "plt.show()"
   ]
  },
  {
   "cell_type": "markdown",
   "id": "cd30a60f-e3ed-4fb4-a6b8-542458ecf176",
   "metadata": {},
   "source": [
    "#### Great-circle\n",
    "Great-circle distance (great_circle) uses a spherical model of the earth, using the mean earth radius as defined by the International Union of Geodesy and Geophysics.\n",
    "\n",
    "#### Geodesic\n",
    "The geodesic distance is the shortest distance on the surface of an ellipsoidal model of the earth.\n",
    "\n",
    "#### Haversine\n",
    "Haversine Distance can be defined as the angular distance between two locations on the Earth’s surface."
   ]
  },
  {
   "cell_type": "code",
   "execution_count": 3,
   "id": "cf6ebddd-8331-4a3a-8c73-0bcf3acc846b",
   "metadata": {},
   "outputs": [],
   "source": [
    "# Cacluating Distance using Great Circle Method \n",
    "def DistanceGRC(cr1,cr2):\n",
    "    dis = geopy.distance.great_circle(cr1, cr2).km\n",
    "    return dis\n",
    "\n",
    "# Cacluating Distance using Haversine Method\n",
    "def DistanceHav(cr1,cr2):\n",
    "    dis = hs.haversine(cr1,cr2)\n",
    "    return dis\n",
    "\n",
    "\n",
    "# Cacluating Distance using Haversine Vector Method\n",
    "def DistanceHavVec(cr1,cr2):\n",
    "    dis = haversine_vector(cr1,cr2)\n",
    "    return dis\n",
    "\n",
    "\n",
    "# Cacluating Distance using Euclidean Method\n",
    "def DistanceEuc(cr1,cr2):\n",
    "    dis = distance.euclidean(cr1,cr2)\n",
    "    return dis\n",
    "\n",
    "\n",
    "#Time empyt array \n",
    "times = {}\n",
    "# For loop to run the program based on the range value, for example if the range is 10. \n",
    "# The program will run ten times. \n",
    "for k in range(50):\n",
    "   \n",
    "    # The start time of running the program \n",
    "    start = time.perf_counter()\n",
    "    \n",
    "    # list for each person and the index for the shortest distance \n",
    "    # Used the curly brackets beacuse for repetition\n",
    "    results_list = {}\n",
    "\n",
    "    for i in df_people.index:\n",
    "        # Distance empty array\n",
    "        distances = []\n",
    "        coords_1 = (df_people['Lat'][i], df_people['Lon'][i])\n",
    "\n",
    "        for j in df_ppv.index:\n",
    "            coords_2 = (df_ppv['Lat'][j], df_ppv['Lon'][j])\n",
    "            # Check the method function before running it \n",
    "            distances.append(DistanceGRC(coords_1,coords_2))\n",
    "            \n",
    "        # After the second for loop finishes running 100 times\n",
    "        # Using min function we will find the minimum value of the distance array\n",
    "        min_dist = min(distances)\n",
    "        # Then finding the index value of the distance minimum value\n",
    "        min_index = distances.index(min_dist)\n",
    "        \n",
    "        # Lastly we save the minimum index in the results_list\n",
    "        # The minimum value index is the shortest vaccination center distance to person location \n",
    "        results_list[i] = min_index\n",
    "        \n",
    "    # The end time of running the program \n",
    "    end =time.perf_counter()\n",
    "    # Time array to save the execution time each time the program ran\n",
    "    # Also, it subracts the end and start time to find the time execution time\n",
    "    times[k] = end - start\n",
    "    \n",
    "# Create a dataframe for the time array, then append it in CSV file \n",
    "df_time = pd.DataFrame.from_dict(data=times, orient='index' )\n",
    "# Check the name of the CSV file before running the code\n",
    "df_time.to_csv('AsusVivoEuc.csv', header=['Time'] , index= False) \n",
    "# print(comp_time)"
   ]
  },
  {
   "cell_type": "markdown",
   "id": "41d19500-cb71-481a-96dc-3c4e516815fc",
   "metadata": {},
   "source": [
    "#### Shaded Density Plot for Execution Time Comparison using 4 Computers"
   ]
  },
  {
   "cell_type": "code",
   "execution_count": 11,
   "id": "4779f0c0-ebd1-4899-b9be-b416cc9c145d",
   "metadata": {},
   "outputs": [],
   "source": [
    "df_AsusVivoGRC = pd.read_csv('AsusVivoGRC.csv')\n",
    "df_AsusVivoHav = pd.read_csv('AsusVivoHav.csv')\n",
    "df_AsusVivoHavVec = pd.read_csv('AsusVivoHavVec.csv')\n",
    "df_AsusVivoEuc = pd.read_csv('AsusVivoEuc.csv')\n",
    "df_AsusG14GRC = pd.read_csv('AsusG14GRC.csv')\n",
    "df_MSIGRC= pd.read_csv('MSIGRC.csv')\n",
    "df_HPNote= pd.read_csv('HPNote.csv')"
   ]
  },
  {
   "cell_type": "code",
   "execution_count": 12,
   "id": "e52473af-c1c1-4128-b3d3-c250d1d880c6",
   "metadata": {},
   "outputs": [
    {
     "data": {
      "image/png": "[encoded data removed]",
      "text/plain": [
       "<Figure size 432x288 with 1 Axes>"
      ]
     },
     "metadata": {
      "needs_background": "light"
     },
     "output_type": "display_data"
    }
   ],
   "source": [
    "sns.kdeplot(df_AsusVivoGRC['Time'], shade=True)\n",
    "sns.kdeplot(df_AsusG14GRC['Time'], shade=True)\n",
    "sns.kdeplot(df_MSIGRC['Time'], shade=True)\n",
    "sns.kdeplot(df_HPNote['Time'], shade=True)\n",
    "plt.legend(labels=[\"AsusVivo\",\"AsusG14\",\"MSI\",\"HP\"], loc = 2, bbox_to_anchor = (1,1))\n",
    "plt.show()"
   ]
  },
  {
   "cell_type": "markdown",
   "id": "0a655ec1-1884-4b54-a5aa-0b1b95bd3913",
   "metadata": {},
   "source": [
    "#### Shaded Density Plot for Execution Time Comparison for 4 Different Methods"
   ]
  },
  {
   "cell_type": "code",
   "execution_count": 25,
   "id": "016ad094-6c6e-41e8-92d1-a4a6613abbcf",
   "metadata": {},
   "outputs": [
    {
     "data": {
      "image/png": "[encoded data removed]",
      "text/plain": [
       "<Figure size 432x288 with 1 Axes>"
      ]
     },
     "metadata": {
      "needs_background": "light"
     },
     "output_type": "display_data"
    }
   ],
   "source": [
    "sns.kdeplot(df_AsusVivoGRC['Time'], shade=True)\n",
    "sns.kdeplot(df_AsusVivoHav['Time'], shade=True)\n",
    "sns.kdeplot(df_AsusVivoHavVec['Time'], shade=True)\n",
    "sns.kdeplot(df_AsusVivoEuc['Time'], shade=True)\n",
    "plt.legend(labels=[\"Great Circle\",\"Haversine\",\"Haversine Vector\",\"Euclidean\"], loc = 2, bbox_to_anchor = (1,1))\n",
    "plt.show()"
   ]
  }
 ],
 "metadata": {
  "kernelspec": {
   "display_name": "Python 3 (ipykernel)",
   "language": "python",
   "name": "python3"
  },
  "language_info": {
   "codemirror_mode": {
    "name": "ipython",
    "version": 3
   },
   "file_extension": ".py",
   "mimetype": "text/x-python",
   "name": "python",
   "nbconvert_exporter": "python",
   "pygments_lexer": "ipython3",
   "version": "3.9.12"
  }
 },
 "nbformat": 4,
 "nbformat_minor": 5
}
